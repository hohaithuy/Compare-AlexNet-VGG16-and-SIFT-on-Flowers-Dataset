{
  "nbformat": 4,
  "nbformat_minor": 0,
  "metadata": {
    "colab": {
      "name": "CS231-Alexnet.ipynb",
      "provenance": [],
      "collapsed_sections": [],
      "authorship_tag": "ABX9TyNbcjcIDmkeFS+ndpRdHBMY",
      "include_colab_link": true
    },
    "kernelspec": {
      "name": "python3",
      "display_name": "Python 3"
    },
    "language_info": {
      "name": "python"
    }
  },
  "cells": [
    {
      "cell_type": "markdown",
      "metadata": {
        "id": "view-in-github",
        "colab_type": "text"
      },
      "source": [
        "<a href=\"https://colab.research.google.com/github/hohaithuy/Compare-AlexNet-VGG16-and-SIFT-on-Flowers-Dataset/blob/main/Alexnet.ipynb\" target=\"_parent\"><img src=\"https://colab.research.google.com/assets/colab-badge.svg\" alt=\"Open In Colab\"/></a>"
      ]
    },
    {
      "cell_type": "code",
      "metadata": {
        "id": "72udQWCp7_Fp",
        "colab": {
          "base_uri": "https://localhost:8080/"
        },
        "outputId": "a714d702-cc78-4ba1-efde-c7222f11a6bf"
      },
      "source": [
        "from google.colab import drive\n",
        "drive.mount('/content/gdrive')"
      ],
      "execution_count": null,
      "outputs": [
        {
          "output_type": "stream",
          "name": "stdout",
          "text": [
            "Mounted at /content/gdrive\n"
          ]
        }
      ]
    },
    {
      "cell_type": "code",
      "metadata": {
        "id": "ZB8_ymhp6vAh"
      },
      "source": [
        "import random\n",
        "import numpy as np\n",
        "import os\n",
        "\n",
        "\n",
        "import torchvision\n",
        "from torchvision import models\n",
        "from torchvision import transforms\n",
        "\n",
        "\n",
        "import torch\n",
        "import torch.nn as nn\n",
        "\n",
        "from PIL import Image\n"
      ],
      "execution_count": null,
      "outputs": []
    },
    {
      "cell_type": "code",
      "metadata": {
        "id": "cOIjkca57Ht2"
      },
      "source": [
        "alexnet = models.alexnet(pretrained=True)\n",
        "#remove last fully-connected layer\n",
        "new_classifier = nn.Sequential(*list(alexnet.classifier.children())[:1])\n",
        "alexnet.classifier = new_classifier\n",
        "\n",
        "# #Updating the second classifier\n",
        "# alexnet.classifier[4] = nn.Linear(4096,9)\n",
        "\n",
        "# #Updating the third and the last classifier that is the output layer of the network. Make sure to have 2 output nodes if we are going to get 2 class labels through our model.\n",
        "# alexnet.classifier[6] = nn.Linear(1024,2)\n"
      ],
      "execution_count": null,
      "outputs": []
    },
    {
      "cell_type": "code",
      "metadata": {
        "colab": {
          "base_uri": "https://localhost:8080/"
        },
        "id": "MmttEntU7Kx4",
        "outputId": "ea218027-66d0-427f-a8d4-b9c8b3dee9a6"
      },
      "source": [
        "print(alexnet)"
      ],
      "execution_count": null,
      "outputs": [
        {
          "output_type": "stream",
          "name": "stdout",
          "text": [
            "AlexNet(\n",
            "  (features): Sequential(\n",
            "    (0): Conv2d(3, 64, kernel_size=(11, 11), stride=(4, 4), padding=(2, 2))\n",
            "    (1): ReLU(inplace=True)\n",
            "    (2): MaxPool2d(kernel_size=3, stride=2, padding=0, dilation=1, ceil_mode=False)\n",
            "    (3): Conv2d(64, 192, kernel_size=(5, 5), stride=(1, 1), padding=(2, 2))\n",
            "    (4): ReLU(inplace=True)\n",
            "    (5): MaxPool2d(kernel_size=3, stride=2, padding=0, dilation=1, ceil_mode=False)\n",
            "    (6): Conv2d(192, 384, kernel_size=(3, 3), stride=(1, 1), padding=(1, 1))\n",
            "    (7): ReLU(inplace=True)\n",
            "    (8): Conv2d(384, 256, kernel_size=(3, 3), stride=(1, 1), padding=(1, 1))\n",
            "    (9): ReLU(inplace=True)\n",
            "    (10): Conv2d(256, 256, kernel_size=(3, 3), stride=(1, 1), padding=(1, 1))\n",
            "    (11): ReLU(inplace=True)\n",
            "    (12): MaxPool2d(kernel_size=3, stride=2, padding=0, dilation=1, ceil_mode=False)\n",
            "  )\n",
            "  (avgpool): AdaptiveAvgPool2d(output_size=(6, 6))\n",
            "  (classifier): Sequential(\n",
            "    (0): Dropout(p=0.5, inplace=False)\n",
            "    (1): Linear(in_features=9216, out_features=4096, bias=True)\n",
            "    (2): ReLU(inplace=True)\n",
            "    (3): Dropout(p=0.5, inplace=False)\n",
            "    (4): Linear(in_features=4096, out_features=4096, bias=True)\n",
            "    (5): ReLU(inplace=True)\n",
            "  )\n",
            ")\n"
          ]
        }
      ]
    },
    {
      "cell_type": "code",
      "metadata": {
        "id": "MZQG6Mp8d63y"
      },
      "source": [
        "# # Freeze feature\n",
        "# for param in alexnet.features:\n",
        "#   param.requires_grad = False"
      ],
      "execution_count": null,
      "outputs": []
    },
    {
      "cell_type": "code",
      "metadata": {
        "id": "0dNqsl7G7XsX"
      },
      "source": [
        "transform = transforms.Compose([            #[1]\n",
        " transforms.Resize(256),                    #[2]\n",
        " transforms.CenterCrop(227),                #[3]\n",
        " transforms.ToTensor(),                     #[4]\n",
        " transforms.Normalize(                      #[5]\n",
        " mean=[0.4914, 0.4822, 0.4465], \n",
        " std=[0.2023, 0.1994, 0.2010]\n",
        " )\n",
        "])"
      ],
      "execution_count": null,
      "outputs": []
    },
    {
      "cell_type": "code",
      "metadata": {
        "colab": {
          "base_uri": "https://localhost:8080/"
        },
        "id": "XUh3NIMdgYpe",
        "outputId": "fcbf83d9-1c6e-40a0-b578-0f4f545d6a83"
      },
      "source": [
        "path = '/content/gdrive/MyDrive/flowers/'\n",
        "\n",
        "fulldata = []\n",
        "\n",
        "classes = os.listdir(path)\n",
        "label = 0\n",
        "\n",
        "for folder in classes:\n",
        "  print(f\"{folder} : {label}\")\n",
        "  files = sorted(os.listdir(path + folder))[:300]\n",
        "  sub_data =[(torch.unsqueeze(transform(Image.open(path + folder + '/' + i).convert('RGB')), 0), label) for i in files]\n",
        "  if len(fulldata) == 0: fulldata = sub_data\n",
        "  else: fulldata += sub_data\n",
        "  label += 1\n"
      ],
      "execution_count": null,
      "outputs": [
        {
          "output_type": "stream",
          "name": "stdout",
          "text": [
            "daisy : 0\n",
            "dandelion : 1\n",
            "rose : 2\n",
            "sunflower : 3\n",
            "tulip : 4\n",
            "lotusflower : 5\n",
            "hydrangea : 6\n",
            "Gerbera : 7\n",
            "Lily : 8\n"
          ]
        }
      ]
    },
    {
      "cell_type": "code",
      "metadata": {
        "id": "qkdM1hdR0Nue"
      },
      "source": [
        "random.shuffle(fulldata)"
      ],
      "execution_count": null,
      "outputs": []
    },
    {
      "cell_type": "code",
      "metadata": {
        "colab": {
          "base_uri": "https://localhost:8080/"
        },
        "id": "0S-0VUSEAfST",
        "outputId": "fd0eec68-e691-498e-a4a2-ccdd21962782"
      },
      "source": [
        "img = Image.open('/content/gdrive/MyDrive/flowers/daisy/100080576_f52e8ee070_n.jpg')\n",
        "img_t = transform(img)\n",
        "batch_t = torch.unsqueeze(img_t, 0)\n",
        "out = alexnet(fulldata[15][0])\n",
        "print(out.shape)\n",
        "out.detach().numpy().reshape(-1, )"
      ],
      "execution_count": null,
      "outputs": [
        {
          "output_type": "stream",
          "name": "stdout",
          "text": [
            "torch.Size([1, 4096])\n"
          ]
        },
        {
          "output_type": "execute_result",
          "data": {
            "text/plain": [
              "array([0.       , 0.       , 0.       , ..., 0.       , 0.5892796,\n",
              "       0.       ], dtype=float32)"
            ]
          },
          "metadata": {},
          "execution_count": 112
        }
      ]
    },
    {
      "cell_type": "code",
      "metadata": {
        "id": "Qda4KFZTr-C2"
      },
      "source": [
        "#X = numpy.empty(shape, dtype=float, order='C', *, like=None)\n",
        "X = []\n",
        "y = []\n",
        "\n",
        "for i in fulldata:\n",
        "  out = alexnet(i[0])\n",
        "  X.append(out.detach().numpy())\n",
        "  y.append(i[1])\n"
      ],
      "execution_count": null,
      "outputs": []
    },
    {
      "cell_type": "code",
      "metadata": {
        "id": "20bSEh3UwwIQ"
      },
      "source": [
        "X = np.array(X)\n"
      ],
      "execution_count": null,
      "outputs": []
    },
    {
      "cell_type": "code",
      "metadata": {
        "colab": {
          "base_uri": "https://localhost:8080/"
        },
        "id": "jFZB85i1mL-l",
        "outputId": "e37aaa17-717a-4860-bbc9-8fea785e5ca3"
      },
      "source": [
        "X.shape"
      ],
      "execution_count": null,
      "outputs": [
        {
          "output_type": "execute_result",
          "data": {
            "text/plain": [
              "(2700, 1, 4096)"
            ]
          },
          "metadata": {},
          "execution_count": 174
        }
      ]
    },
    {
      "cell_type": "code",
      "metadata": {
        "id": "hzZwf6Kwxr31"
      },
      "source": [
        "X = np.reshape(X, (X.shape[0], X.shape[2]))"
      ],
      "execution_count": null,
      "outputs": []
    },
    {
      "cell_type": "code",
      "metadata": {
        "colab": {
          "base_uri": "https://localhost:8080/"
        },
        "id": "e0AiYTBTxK4D",
        "outputId": "ac0944d2-8d27-4019-874a-ec443ddff0ad"
      },
      "source": [
        "X.shape"
      ],
      "execution_count": null,
      "outputs": [
        {
          "output_type": "execute_result",
          "data": {
            "text/plain": [
              "(2700, 4096)"
            ]
          },
          "metadata": {},
          "execution_count": 176
        }
      ]
    },
    {
      "cell_type": "markdown",
      "metadata": {
        "id": "isjmoeGSqgzt"
      },
      "source": [
        "#Test"
      ]
    },
    {
      "cell_type": "code",
      "metadata": {
        "id": "hYNDzZkGnhTU"
      },
      "source": [
        "import matplotlib.pyplot as plt\n",
        "import itertools\n",
        "def plot_confusion_matrix(cm, classes,\n",
        "                          normalize=False,\n",
        "                          title='Confusion matrix',\n",
        "                          cmap=plt.cm.Blues):\n",
        "    \"\"\"\n",
        "    This function prints and plots the confusion matrix.\n",
        "    Normalization can be applied by setting normalize=True.\n",
        "    \"\"\"\n",
        "    if normalize:\n",
        "        cm = cm.astype('float') / cm.sum(axis=1, keepdims = True)\n",
        "\n",
        "    plt.imshow(cm, interpolation='nearest', cmap=cmap)\n",
        "    plt.title(title)\n",
        "    plt.colorbar()\n",
        "    tick_marks = np.arange(len(classes))\n",
        "    plt.xticks(tick_marks, classes, rotation=45)\n",
        "    plt.yticks(tick_marks, classes)\n",
        "\n",
        "    fmt = '.2f' if normalize else 'd'\n",
        "    thresh = cm.max() / 2.\n",
        "    for i, j in itertools.product(range(cm.shape[0]), range(cm.shape[1])):\n",
        "        plt.text(j, i, format(cm[i, j], fmt),\n",
        "                 horizontalalignment=\"center\",\n",
        "                 color=\"white\" if cm[i, j] > thresh else \"black\")\n",
        "\n",
        "    plt.tight_layout()\n",
        "    plt.ylabel('True label')\n",
        "    plt.xlabel('Predicted label')\n",
        "\n"
      ],
      "execution_count": null,
      "outputs": []
    },
    {
      "cell_type": "code",
      "metadata": {
        "id": "B0S4NKHEqgmt"
      },
      "source": [
        "import pandas as pd\n",
        "import numpy as np\n",
        "\n",
        "from sklearn.model_selection import train_test_split\n",
        "\n",
        "from sklearn.linear_model import LogisticRegression\n",
        "from sklearn.svm import SVC\n",
        "from sklearn.naive_bayes import GaussianNB\n",
        "from sklearn.tree import DecisionTreeClassifier\n",
        "from sklearn.ensemble import RandomForestClassifier\n",
        "from sklearn.linear_model import SGDClassifier\n",
        "from sklearn.neighbors import KNeighborsClassifier\n",
        "\n",
        "from sklearn.metrics import accuracy_score\n",
        "from sklearn.metrics import classification_report, confusion_matrix\n"
      ],
      "execution_count": null,
      "outputs": []
    },
    {
      "cell_type": "code",
      "metadata": {
        "id": "e0q0I_SKqkAV"
      },
      "source": [
        "def Experiment(X, y, model_used):\n",
        "  X_train, X_test, y_train, y_test = train_test_split(X, y, test_size=0.33, random_state=42)\n",
        "  clf = model_used\n",
        "  clf.fit(X_train, y_train)\n",
        "\n",
        "  y_predict = clf.predict(X_test)\n",
        "\n",
        "  return accuracy_score(y_test,y_predict)\n",
        "\n",
        "  print(classification_report(y_test, y_predict, target_names=classes))\n",
        "  print( confusion_matrix(y_test, y_predict))\n",
        "  print(accuracy_score(y_test,y_predict))\n",
        "\n",
        "\n",
        "  # Plot non-normalized confusion matrix\n",
        "  plt.figure()\n",
        "  plot_confusion_matrix(confusion_matrix(y_test, y_predict), classes=classes,\n",
        "                        title='Confusion matrix, without normalization')\n",
        "  # Plot normalized confusion matrix\n",
        "  plt.figure()\n",
        "  plot_confusion_matrix(confusion_matrix(y_test, y_predict), classes=classes, normalize=True,\n",
        "                        title='Normalized confusion matrix')\n",
        "  plt.show()\n"
      ],
      "execution_count": null,
      "outputs": []
    },
    {
      "cell_type": "code",
      "metadata": {
        "colab": {
          "base_uri": "https://localhost:8080/"
        },
        "id": "LlKZyUKnHoVt",
        "outputId": "576ce50f-a3f1-4a1d-aa04-d5336023b6cb"
      },
      "source": [
        "algorithms = {'LogisticRegression': LogisticRegression(),\n",
        "'SVC': SVC(),\n",
        "'GaussianNB': GaussianNB(),\n",
        "'DecisionTreeClassifier': DecisionTreeClassifier(),\n",
        "'RandomForestClassifier': RandomForestClassifier(),\n",
        "'SGDClassifier': SGDClassifier(),\n",
        "'KNeighborsClassifier': KNeighborsClassifier()}\n",
        "\n",
        "results = []\n",
        "\n",
        "for i in algorithms:\n",
        "  tmp = Experiment(X, y, algorithms[i])\n",
        "  print(f\"{i} algorithm has acc = {tmp}\")\n",
        "  results.append(tmp)\n"
      ],
      "execution_count": null,
      "outputs": [
        {
          "output_type": "stream",
          "name": "stderr",
          "text": [
            "/usr/local/lib/python3.7/dist-packages/sklearn/linear_model/_logistic.py:940: ConvergenceWarning: lbfgs failed to converge (status=1):\n",
            "STOP: TOTAL NO. of ITERATIONS REACHED LIMIT.\n",
            "\n",
            "Increase the number of iterations (max_iter) or scale the data as shown in:\n",
            "    https://scikit-learn.org/stable/modules/preprocessing.html\n",
            "Please also refer to the documentation for alternative solver options:\n",
            "    https://scikit-learn.org/stable/modules/linear_model.html#logistic-regression\n",
            "  extra_warning_msg=_LOGISTIC_SOLVER_CONVERGENCE_MSG)\n"
          ]
        },
        {
          "output_type": "stream",
          "name": "stdout",
          "text": [
            "LogisticRegression algorithm has acc = 0.8159371492704826\n",
            "SVC algorithm has acc = 0.8271604938271605\n",
            "GaussianNB algorithm has acc = 0.5982042648709316\n",
            "DecisionTreeClassifier algorithm has acc = 0.5375982042648709\n",
            "RandomForestClassifier algorithm has acc = 0.7878787878787878\n",
            "SGDClassifier algorithm has acc = 0.8260381593714927\n",
            "KNeighborsClassifier algorithm has acc = 0.7317620650953984\n"
          ]
        }
      ]
    },
    {
      "cell_type": "code",
      "metadata": {
        "colab": {
          "base_uri": "https://localhost:8080/",
          "height": 452
        },
        "id": "rXs9GkQ7Kg-_",
        "outputId": "b80fb241-0a17-4a57-ad4f-aff01d89a3a6"
      },
      "source": [
        "import matplotlib.pyplot as plt; plt.rcdefaults()\n",
        "import numpy as np\n",
        "import matplotlib.pyplot as plt\n",
        "\n",
        "objects = ('LR',\n",
        " 'SVM',\n",
        " 'NB',\n",
        " 'DTree',\n",
        " 'RdForest',\n",
        " 'SGD',\n",
        " 'KNN')\n",
        "y_pos = np.arange(len(objects))\n",
        "performance = results\n",
        "\n",
        "plt.bar(y_pos, performance, align='center', alpha=0.5)\n",
        "plt.xticks(y_pos, objects)\n",
        "plt.ylabel('Accuracy')\n",
        "plt.title('Algorithm used')\n",
        "\n",
        "plt.show()"
      ],
      "execution_count": null,
      "outputs": [
        {
          "output_type": "display_data",
          "data": {
            "image/png": "[encoded data removed]",
            "text/plain": [
              "<Figure size 640x480 with 1 Axes>"
            ]
          },
          "metadata": {}
        }
      ]
    },
    {
      "cell_type": "code",
      "metadata": {
        "colab": {
          "base_uri": "https://localhost:8080/"
        },
        "id": "k6itMcZDRUH-",
        "outputId": "915186e2-83af-415d-da55-4f80a6e60323"
      },
      "source": [
        "X_train, X_test, y_train, y_test = train_test_split(X, y, test_size=0.33, random_state=42)\n",
        "clf = SVC()\n",
        "clf.fit(X_train, y_train)\n",
        "\n",
        "y_predict = clf.predict(X_test)\n",
        "\n",
        "accuracy_score(y_test,y_predict)"
      ],
      "execution_count": null,
      "outputs": [
        {
          "output_type": "execute_result",
          "data": {
            "text/plain": [
              "0.8271604938271605"
            ]
          },
          "metadata": {},
          "execution_count": 182
        }
      ]
    },
    {
      "cell_type": "code",
      "metadata": {
        "colab": {
          "base_uri": "https://localhost:8080/"
        },
        "id": "NZTPhIdqSu_u",
        "outputId": "0b47478a-7a87-4490-8f7a-f2b4d7c68229"
      },
      "source": [
        "classes"
      ],
      "execution_count": null,
      "outputs": [
        {
          "output_type": "execute_result",
          "data": {
            "text/plain": [
              "['daisy',\n",
              " 'dandelion',\n",
              " 'rose',\n",
              " 'sunflower',\n",
              " 'tulip',\n",
              " 'lotusflower',\n",
              " 'hydrangea',\n",
              " 'Gerbera',\n",
              " 'Lily']"
            ]
          },
          "metadata": {},
          "execution_count": 183
        }
      ]
    },
    {
      "cell_type": "code",
      "metadata": {
        "id": "yxXVXPo_PaJ-"
      },
      "source": [
        "def PredictRealLife(model):\n",
        "  path = input()\n",
        "  imgData = (torch.unsqueeze(transform(Image.open(path).convert('RGB')), 0))\n",
        "  alexnet_output = alexnet(imgData)\n",
        "  predictData = alexnet_output.detach().numpy()\n",
        "  labelPredict = clf.predict(predictData)\n",
        "\n",
        "  return classes[labelPredict[0]]"
      ],
      "execution_count": null,
      "outputs": []
    },
    {
      "cell_type": "code",
      "metadata": {
        "id": "MPdpw4-oQBt3"
      },
      "source": [
        "PredictRealLife(clf)"
      ],
      "execution_count": null,
      "outputs": []
    }
  ]
}